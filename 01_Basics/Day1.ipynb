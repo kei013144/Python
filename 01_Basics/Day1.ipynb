{
 "cells": [
  {
   "cell_type": "markdown",
   "metadata": {},
   "source": [
    "# Day 1\n",
    "\n",
    "This is a template notebook."
   ]
  },
  {
   "cell_type": "code",
   "execution_count": 1,
   "id": "0ef78efa",
   "metadata": {},
   "outputs": [
    {
     "name": "stdout",
     "output_type": "stream",
     "text": [
      "hello\n"
     ]
    }
   ],
   "source": [
    "print(\"hello\")"
   ]
  },
  {
   "cell_type": "code",
   "execution_count": 2,
   "id": "87d8d24c",
   "metadata": {},
   "outputs": [
    {
     "name": "stdout",
     "output_type": "stream",
     "text": [
      "10 2.3333333333333335 2 343\n"
     ]
    }
   ],
   "source": [
    "x, y = 7, 3\n",
    "print(x + y, x / y, x // y, x ** y)\n"
   ]
  },
  {
   "cell_type": "code",
   "execution_count": 3,
   "id": "39ce6089",
   "metadata": {},
   "outputs": [
    {
     "name": "stdout",
     "output_type": "stream",
     "text": [
      "こんにちは、taro さん。年齢は 25 歳です。\n"
     ]
    }
   ],
   "source": [
    "name = \"taro\"\n",
    "age = 25\n",
    "print(f\"こんにちは、{name} さん。年齢は {age} 歳です。\")\n"
   ]
  },
  {
   "cell_type": "code",
   "execution_count": 4,
   "id": "a421cfb7",
   "metadata": {},
   "outputs": [
    {
     "name": "stdout",
     "output_type": "stream",
     "text": [
      "2025-10-25 19:53:15｜andiさんの分析完了です。\n"
     ]
    }
   ],
   "source": [
    "from datetime import datetime\n",
    "\n",
    "name = \"andi\"\n",
    "now = datetime.now()\n",
    "print(f\"{now:%Y-%m-%d %H:%M:%S}｜{name}さんの分析完了です。\")\n"
   ]
  }
 ],
 "metadata": {
  "kernelspec": {
   "display_name": "Python 3",
   "language": "python",
   "name": "python3"
  },
  "language_info": {
   "codemirror_mode": {
    "name": "ipython",
    "version": 3
   },
   "file_extension": ".py",
   "mimetype": "text/x-python",
   "name": "python",
   "nbconvert_exporter": "python",
   "pygments_lexer": "ipython3",
   "version": "3.10.6"
  }
 },
 "nbformat": 4,
 "nbformat_minor": 5
}
